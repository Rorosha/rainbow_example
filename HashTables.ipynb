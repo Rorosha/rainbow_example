{
 "metadata": {
  "name": "HashTables"
 },
 "nbformat": 3,
 "nbformat_minor": 0,
 "worksheets": [
  {
   "cells": [
    {
     "cell_type": "code",
     "collapsed": false,
     "input": [
      "import hashlib\n",
      "import string\n",
      "\n",
      "import basicDB\n",
      "\n",
      "def generate_strings(digits):\n",
      "    '''Generates a list of all possible lowercase ascii characters up to the \n",
      "    digits limit. Don't do anything too high, or it will take forever.'''\n",
      "    letters = string.ascii_lowercase\n",
      "    seed = [x for x in letters]\n",
      "    \n",
      "    for x in range(digits):\n",
      "        temp = seed\n",
      "        for y in xrange(len(temp)):\n",
      "            for z in xrange(26): # If you change the size of seed, change this to equal len(seed)\n",
      "                seed.append(temp[y] + letters[z])\n",
      "            \n",
      "    return seed\n",
      "    \n",
      "def generate_hash(value):\n",
      "    ''' Takes a string value and computes the hexdigest (sha1) for that \n",
      "    value. Returns hexdigest in string format.'''\n",
      "    digest = hashlib.sha1()\n",
      "    digest.update(value)\n",
      "    return digest.hexdigest()"
     ],
     "language": "python",
     "metadata": {},
     "outputs": [],
     "prompt_number": 2
    },
    {
     "cell_type": "code",
     "collapsed": false,
     "input": [
      "our_list = generate_strings(2) # Anything >= 4 will take several minutes to complete\n",
      "\n",
      "# Let's see how big this thing is\n",
      "len(our_list)"
     ],
     "language": "python",
     "metadata": {},
     "outputs": [
      {
       "output_type": "pyout",
       "prompt_number": 3,
       "text": [
        "18954"
       ]
      }
     ],
     "prompt_number": 3
    },
    {
     "cell_type": "code",
     "collapsed": false,
     "input": [
      "myDB = basicDB.DBInteraction('hashes.db')"
     ],
     "language": "python",
     "metadata": {},
     "outputs": [],
     "prompt_number": 4
    },
    {
     "cell_type": "code",
     "collapsed": false,
     "input": [
      "myDB.create_table('hashes', [('string', 'text'), ('digest', 'text')])"
     ],
     "language": "python",
     "metadata": {},
     "outputs": [],
     "prompt_number": 5
    },
    {
     "cell_type": "code",
     "collapsed": false,
     "input": [
      "for item in our_list:\n",
      "    myDB.write(\"\"\"INSERT INTO hashes VALUES ('%s', '%s')\"\"\" % (item, str(generate_hash(item))) )"
     ],
     "language": "python",
     "metadata": {},
     "outputs": [],
     "prompt_number": 6
    },
    {
     "cell_type": "code",
     "collapsed": false,
     "input": [
      "myDB.save()\n",
      "\n",
      "# Let's get a hash to lookup\n",
      "digest_for_lookup = generate_hash('zz')\n",
      "print digest_for_lookup"
     ],
     "language": "python",
     "metadata": {},
     "outputs": [
      {
       "output_type": "stream",
       "stream": "stdout",
       "text": [
        "d7dacae2c968388960bf8970080a980ed5c5dcb7\n"
       ]
      }
     ],
     "prompt_number": 8
    },
    {
     "cell_type": "code",
     "collapsed": false,
     "input": [
      "myDB.read('hashes', 'digest', digest_for_lookup)"
     ],
     "language": "python",
     "metadata": {},
     "outputs": [
      {
       "output_type": "pyout",
       "prompt_number": 9,
       "text": [
        "(u'zz', u'd7dacae2c968388960bf8970080a980ed5c5dcb7')"
       ]
      }
     ],
     "prompt_number": 9
    },
    {
     "cell_type": "code",
     "collapsed": false,
     "input": [
      "myDB.read('hashes', 'string', 'cat')"
     ],
     "language": "python",
     "metadata": {},
     "outputs": [
      {
       "output_type": "pyout",
       "prompt_number": 10,
       "text": [
        "(u'cat', u'9d989e8d27dc9e0ec3389fc855f142c3d40f0c50')"
       ]
      }
     ],
     "prompt_number": 10
    },
    {
     "cell_type": "code",
     "collapsed": false,
     "input": [],
     "language": "python",
     "metadata": {},
     "outputs": []
    }
   ],
   "metadata": {}
  }
 ]
}