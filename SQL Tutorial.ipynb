{
 "metadata": {
  "name": "SQL Tutorial"
 },
 "nbformat": 3,
 "nbformat_minor": 0,
 "worksheets": [
  {
   "cells": [
    {
     "cell_type": "code",
     "collapsed": false,
     "input": [
      "import sqlite3\n",
      "\n",
      "class DBInteraction:\n",
      "    '''Super simple class for dealing with databases.'''\n",
      "    def __init__(self, db_name):\n",
      "        self.db = sqlite3.connect(db_name)\n",
      "        self.cursor = self.db.cursor()\n",
      "        \n",
      "    def create_table(self, table_name, column_names):\n",
      "        '''Creates a table. 'table_name' is a simple string used to name the table.\n",
      "            'column_names' is a list of tuples [(column_name, type), (column_name, type)...] for the columns.\n",
      "   \n",
      "            columns = [(name, text), (email, text)]\n",
      "            myDB.create_table('contacts', columns)\n",
      "            --> CREATE TABLE contacts (name text, email text);'''\n",
      "        \n",
      "        # Create the correct string for input\n",
      "        column_string = ''\n",
      "        for tup in column_names:\n",
      "            column_string += tup[0] + ' '\n",
      "            column_string += tup[1] + ', '\n",
      "        \n",
      "        # Have to strip the trailing ', '\n",
      "        column_string = column_string[:-2]\n",
      "        \n",
      "        \n",
      "        # Don't do this is production code - I'm being lazy here, huge security issue\n",
      "        # This is just to show the basic ideas.\n",
      "        \n",
      "        self.cursor.execute('''CREATE TABLE %s (%s)''' % (table_name, column_string))\n",
      "        self.db.commit()\n",
      "        \n",
      "    def write(self, command):\n",
      "        '''Provides cursor access for executing statements on the database.\n",
      "            'command' needs to be a valid SQL statement.'''\n",
      "        self.cursor.execute(command)\n",
      "        \n",
      "    def read(self, table, column, value):\n",
      "        '''Allows user to run SELECT statements against the database.'''\n",
      "        return self.cursor.execute(\"\"\"SELECT * from %s WHERE %s = '%s'\"\"\" % (table, column, value)).fetchone()\n",
      "        \n",
      "    def save(self):\n",
      "        '''Commits writes to the database.'''\n",
      "        self.db.commit()\n",
      "        \n",
      "    def cursor_close(self):\n",
      "        '''Closes the cursor.'''\n",
      "        self.cursor.close()\n",
      "        \n",
      "    def cursor_open(self):\n",
      "        '''Opens the cursor.'''\n",
      "        self.cursor = self.db.cursor()"
     ],
     "language": "python",
     "metadata": {},
     "outputs": [],
     "prompt_number": 1
    },
    {
     "cell_type": "code",
     "collapsed": false,
     "input": [
      "myDB = DBInteraction('test2.db')"
     ],
     "language": "python",
     "metadata": {},
     "outputs": [],
     "prompt_number": 2
    },
    {
     "cell_type": "code",
     "collapsed": false,
     "input": [
      "myDB.create_table('people', [('name', 'text'), ('location', 'text'), ('age', 'int')])"
     ],
     "language": "python",
     "metadata": {},
     "outputs": [],
     "prompt_number": 3
    },
    {
     "cell_type": "code",
     "collapsed": false,
     "input": [
      "myDB.write(\"\"\"INSERT INTO people VALUES ('mike', 'colorado', '24')\"\"\")\n",
      "myDB.write(\"\"\"INSERT INTO people VALUES ('david', 'ohio', '21')\"\"\")"
     ],
     "language": "python",
     "metadata": {},
     "outputs": [],
     "prompt_number": 4
    },
    {
     "cell_type": "code",
     "collapsed": false,
     "input": [
      "myDB.save()"
     ],
     "language": "python",
     "metadata": {},
     "outputs": [],
     "prompt_number": 5
    },
    {
     "cell_type": "code",
     "collapsed": false,
     "input": [
      "myDB.read('people', 'location', 'ohio')"
     ],
     "language": "python",
     "metadata": {},
     "outputs": [
      {
       "output_type": "pyout",
       "prompt_number": 9,
       "text": [
        "(u'david', u'ohio', 21)"
       ]
      }
     ],
     "prompt_number": 9
    },
    {
     "cell_type": "code",
     "collapsed": false,
     "input": [
      "myDB.read('people', 'age', '24')"
     ],
     "language": "python",
     "metadata": {},
     "outputs": [
      {
       "output_type": "pyout",
       "prompt_number": 8,
       "text": [
        "(u'mike', u'colorado', 24)"
       ]
      }
     ],
     "prompt_number": 8
    },
    {
     "cell_type": "code",
     "collapsed": false,
     "input": [
      "# Create a var to store args.\n",
      "columns = [('class_name', 'text'), ('topic', 'text'), ('date', 'text')]"
     ],
     "language": "python",
     "metadata": {},
     "outputs": [],
     "prompt_number": 10
    },
    {
     "cell_type": "code",
     "collapsed": false,
     "input": [
      "myDB.create_table('classes', columns)"
     ],
     "language": "python",
     "metadata": {},
     "outputs": [],
     "prompt_number": 11
    },
    {
     "cell_type": "code",
     "collapsed": false,
     "input": [],
     "language": "python",
     "metadata": {},
     "outputs": []
    }
   ],
   "metadata": {}
  }
 ]
}